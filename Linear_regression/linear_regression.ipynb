{
 "cells": [
  {
   "cell_type": "markdown",
   "metadata": {},
   "source": [
    "# Linear Regression from scratch"
   ]
  },
  {
   "cell_type": "markdown",
   "metadata": {},
   "source": [
    "In statistics, linear regression is a linear approach for modeling the relationship between a scalar dependent variable y and one or more explanatory variables (or independent variables) denoted X."
   ]
  },
  {
   "cell_type": "markdown",
   "metadata": {},
   "source": [
    "In this notebook, we demonstrate the case of one explanatory variable called simple linear regression since it easy to visualize. The technique demonstrated can easily be extended to apply for more than one explanatory variable (multiple linear regression)"
   ]
  },
  {
   "cell_type": "code",
   "execution_count": 2,
   "metadata": {},
   "outputs": [
    {
     "data": {
      "image/png": "[encoded data removed]",
      "text/plain": [
       "<Figure size 432x288 with 1 Axes>"
      ]
     },
     "metadata": {},
     "output_type": "display_data"
    }
   ],
   "source": [
    "import numpy as np\n",
    "import matplotlib.pyplot as plt\n",
    "from matplotlib import style\n",
    "from statistics import mean\n",
    "import random\n",
    "style.use('fivethirtyeight')\n",
    "\n",
    "#plotting some random points \n",
    "x = np.array([1,2,3,4,5,6],dtype=np.float64)  #single independent variable\n",
    "y = np.array([6,4,5,2,1,1],dtype=np.float64)  #dependent variable\n",
    "\n",
    "plt.scatter(x,y)\n",
    "plt.show()"
   ]
  },
  {
   "cell_type": "markdown",
   "metadata": {},
   "source": [
    "# Finding the best fit line"
   ]
  },
  {
   "cell_type": "raw",
   "metadata": {},
   "source": [
    "For the given point set, we wish to find the best fit line, i.e., the line which minimizes the squared error between the predicted y-value from the regression line and the actual y-value of the data point.\n",
    "\n",
    "Upon solving, we get the following formula for slope m and intercept b of the line:"
   ]
  },
  {
   "cell_type": "code",
   "execution_count": 12,
   "metadata": {
    "collapsed": true
   },
   "outputs": [],
   "source": [
    "def best_fit_slope_intercept(x,y):\n",
    "    m = (mean(x)*mean(y)-mean(x*y))/(mean(x)**2 - mean(x*x))\n",
    "    b = mean(y) - m*mean(x)\n",
    "    return m,b"
   ]
  },
  {
   "cell_type": "code",
   "execution_count": 13,
   "metadata": {},
   "outputs": [
    {
     "data": {
      "image/png": "[encoded data removed]",
      "text/plain": [
       "<matplotlib.figure.Figure at 0x7f1facb997b8>"
      ]
     },
     "metadata": {},
     "output_type": "display_data"
    }
   ],
   "source": [
    "#find the best fit line for the given point set\n",
    "m,b = best_fit_slope_intercept(x,y) \n",
    "\n",
    "#finding the regression line\n",
    "reg_line = [(m*i)+b for i in x]\n",
    "\n",
    "#plotting the given points\n",
    "plt.scatter(x,y)\n",
    "\n",
    "#plotting the regression line\n",
    "plt.plot(x,reg_line)\n",
    "plt.show()"
   ]
  },
  {
   "cell_type": "markdown",
   "metadata": {},
   "source": [
    "# Measurement of Goodness of Fit"
   ]
  },
  {
   "cell_type": "raw",
   "metadata": {},
   "source": [
    "We define Coefficient of Determination to measure how good our estimate is. It is interpreted as the proportion of the variance in the dependent variable that is predictable from the independent variable."
   ]
  },
  {
   "cell_type": "code",
   "execution_count": 14,
   "metadata": {},
   "outputs": [
    {
     "name": "stdout",
     "output_type": "stream",
     "text": [
      "0.856517205422\n"
     ]
    }
   ],
   "source": [
    "def squared_error(y_orig,y_line):\n",
    "    return sum((y_orig-y_line)**2)\n",
    "\n",
    "def coeff_det(y_orig,y_line):\n",
    "    y_mean_line = [mean(y_orig) for i in y_orig]\n",
    "    sse = squared_error(y_orig,y_line)\n",
    "    sst = squared_error(y_orig,y_mean_line)\n",
    "    return 1-(sse/sst)\n",
    "\n",
    "print(coeff_det(y,reg_line))"
   ]
  },
  {
   "cell_type": "markdown",
   "metadata": {},
   "source": [
    "# Creating our dataset "
   ]
  },
  {
   "cell_type": "raw",
   "metadata": {},
   "source": [
    "Let us create our own point set and try finding the best fit line for it."
   ]
  },
  {
   "cell_type": "code",
   "execution_count": 3,
   "metadata": {},
   "outputs": [],
   "source": [
    "# hm :  size of dataset (number of points)\n",
    "# var:  variance in the y-value \n",
    "# step: change in y-value for consecutive x-values\n",
    "# correlation: whether y-value increases with x-value or not.\n",
    "\n",
    "def create_dataset(hm,var,step=2,correlation=False):\n",
    "    val =1\n",
    "    ys = []\n",
    "    for i in range(hm):\n",
    "        y = val + random.randrange(-var,var)\n",
    "        ys.append(y)\n",
    "        if correlation and correlation == 'pos':\n",
    "            val+=step\n",
    "        elif correlation and correlation == 'neg':\n",
    "            val-=step\n",
    "    xs = [i for i in range(len(ys))]        \n",
    "    return np.array(xs,dtype=np.float64), np.array(ys,dtype=np.float64)"
   ]
  },
  {
   "cell_type": "raw",
   "metadata": {},
   "source": [
    "Here we create a dataset of 100 points and fit a regression line to it. Next, we determine goodness of fit using coefficient of determination."
   ]
  },
  {
   "cell_type": "code",
   "execution_count": 4,
   "metadata": {},
   "outputs": [
    {
     "name": "stdout",
     "output_type": "stream",
     "text": [
      "[ 0.  1.  2.  3.  4.  5.  6.  7.  8.  9. 10. 11. 12. 13. 14. 15. 16. 17.\n",
      " 18. 19. 20. 21. 22. 23. 24. 25. 26. 27. 28. 29. 30. 31. 32. 33. 34. 35.\n",
      " 36. 37. 38. 39. 40. 41. 42. 43. 44. 45. 46. 47. 48. 49. 50. 51. 52. 53.\n",
      " 54. 55. 56. 57. 58. 59. 60. 61. 62. 63. 64. 65. 66. 67. 68. 69. 70. 71.\n",
      " 72. 73. 74. 75. 76. 77. 78. 79. 80. 81. 82. 83. 84. 85. 86. 87. 88. 89.\n",
      " 90. 91. 92. 93. 94. 95. 96. 97. 98. 99.]\n"
     ]
    },
    {
     "ename": "NameError",
     "evalue": "name 'best_fit_slope_intercept' is not defined",
     "output_type": "error",
     "traceback": [
      "\u001b[1;31m---------------------------------------------------------------------------\u001b[0m",
      "\u001b[1;31mNameError\u001b[0m                                 Traceback (most recent call last)",
      "\u001b[1;32m<ipython-input-4-5765f9100189>\u001b[0m in \u001b[0;36m<module>\u001b[1;34m()\u001b[0m\n\u001b[0;32m      4\u001b[0m \u001b[1;33m\u001b[0m\u001b[0m\n\u001b[0;32m      5\u001b[0m \u001b[1;31m#Fitting the best fit line\u001b[0m\u001b[1;33m\u001b[0m\u001b[1;33m\u001b[0m\u001b[0m\n\u001b[1;32m----> 6\u001b[1;33m \u001b[0mm\u001b[0m\u001b[1;33m,\u001b[0m\u001b[0mb\u001b[0m \u001b[1;33m=\u001b[0m \u001b[0mbest_fit_slope_intercept\u001b[0m\u001b[1;33m(\u001b[0m\u001b[0mxs\u001b[0m\u001b[1;33m,\u001b[0m\u001b[0mys\u001b[0m\u001b[1;33m)\u001b[0m\u001b[1;33m\u001b[0m\u001b[0m\n\u001b[0m\u001b[0;32m      7\u001b[0m \u001b[0mreg_line\u001b[0m \u001b[1;33m=\u001b[0m \u001b[1;33m[\u001b[0m\u001b[1;33m(\u001b[0m\u001b[0mm\u001b[0m\u001b[1;33m*\u001b[0m\u001b[0mi\u001b[0m\u001b[1;33m)\u001b[0m\u001b[1;33m+\u001b[0m\u001b[0mb\u001b[0m \u001b[1;32mfor\u001b[0m \u001b[0mi\u001b[0m \u001b[1;32min\u001b[0m \u001b[0mxs\u001b[0m\u001b[1;33m]\u001b[0m\u001b[1;33m\u001b[0m\u001b[0m\n\u001b[0;32m      8\u001b[0m \u001b[1;33m\u001b[0m\u001b[0m\n",
      "\u001b[1;31mNameError\u001b[0m: name 'best_fit_slope_intercept' is not defined"
     ]
    }
   ],
   "source": [
    "#Creating dataset\n",
    "xs,ys = create_dataset(100,20,2,'pos')\n",
    "print(xs)\n",
    "\n",
    "#Fitting the best fit line\n",
    "m,b = best_fit_slope_intercept(xs,ys)\n",
    "reg_line = [(m*i)+b for i in xs]\n",
    "\n",
    "#Plotting the points and the regression line\n",
    "plt.scatter(xs,ys)\n",
    "plt.plot(xs,reg_line)\n",
    "plt.show()\n",
    "\n",
    "#Finding the coefficient of determination\n",
    "print(coeff_det(ys,reg_line))"
   ]
  },
  {
   "cell_type": "markdown",
   "metadata": {
    "collapsed": true
   },
   "source": [
    "This regression line can now be used to make predictions for new unseen x-values."
   ]
  }
 ],
 "metadata": {
  "kernelspec": {
   "display_name": "Python 3",
   "language": "python",
   "name": "python3"
  },
  "language_info": {
   "codemirror_mode": {
    "name": "ipython",
    "version": 3
   },
   "file_extension": ".py",
   "mimetype": "text/x-python",
   "name": "python",
   "nbconvert_exporter": "python",
   "pygments_lexer": "ipython3",
   "version": "3.6.6"
  }
 },
 "nbformat": 4,
 "nbformat_minor": 2
}
