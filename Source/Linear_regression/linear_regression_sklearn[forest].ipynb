{
 "cells": [
  {
   "cell_type": "code",
   "execution_count": 39,
   "metadata": {},
   "outputs": [],
   "source": [
    "import matplotlib.pyplot as plt\n",
    "import numpy as np\n",
    "import pandas as pd\n",
    "from sklearn import datasets, linear_model\n",
    "from sklearn.metrics import mean_squared_error, r2_score\n",
    "\n",
    "import seaborn as sns"
   ]
  },
  {
   "cell_type": "code",
   "execution_count": 149,
   "metadata": {},
   "outputs": [
    {
     "name": "stdout",
     "output_type": "stream",
     "text": [
      "<class 'numpy.ndarray'> (523,)\n",
      "<class 'numpy.ndarray'> (523, 27)\n",
      "[[1000.     39.     57.   ...  -22.5    -5.2     1.  ]\n",
      " [ 100.     84.     57.   ...  -23.41   -8.87  -10.83]\n",
      " [   1.     53.     49.   ...  -19.97   -4.1    -7.07]\n",
      " ...\n",
      " [   1.     49.     48.   ...  -24.5    -2.53   -4.97]\n",
      " [   1.     55.     52.   ...  -24.39   -2.21   -4.72]\n",
      " [ 100.     71.     51.   ...  -12.74   -1.36   -3.63]]\n"
     ]
    }
   ],
   "source": [
    "# importing the Forest Types Training Dataset\n",
    "df = pd.read_csv('../forest.csv') #Dataframe for training.csv\n",
    "\n",
    "#Extract the training targets\n",
    "y_df = df[['b2']]\n",
    "y=y_df.values\n",
    "y=y.reshape(-1)\n",
    "print(type(y),y.shape)\n",
    "#print(y_train)\n",
    "\n",
    "#Extract the training data\n",
    "df.drop(['b2'],1,inplace=True)\n",
    "X_tot = df.values\n",
    "\n",
    "print(type(X_tot),X_tot.shape)\n",
    "print(X_tot)\n",
    "\n",
    "\n"
   ]
  },
  {
   "cell_type": "code",
   "execution_count": 150,
   "metadata": {},
   "outputs": [
    {
     "name": "stdout",
     "output_type": "stream",
     "text": [
      "[2]Score:  0.9549470573067873\n",
      "[10]Score:  0.9731675069393144\n",
      "[11]Score:  0.8970076741150036\n"
     ]
    }
   ],
   "source": [
    "for i in range(0,X_tot.shape[1],1):\n",
    "    #print(i)\n",
    "    X = X_tot[:, np.newaxis, i]     #Selecting each one colum data \n",
    "    #print(type(X),X.shape)\n",
    "    #print(X)\n",
    "\n",
    "    # Split the data into training/testing sets\n",
    "    X_train = X[:-20]\n",
    "    X_test = X[-20:]\n",
    "    #print(type(X_train),X_train.shape)\n",
    "\n",
    "    # Split the targets into training/testing sets\n",
    "    y_train = y[:-20]\n",
    "\n",
    "    y_test = y[-20:]\n",
    "    #print(type(y_train),y_train.shape)\n",
    "    \n",
    "    # Create linear regression object\n",
    "    regr = linear_model.LinearRegression()\n",
    "\n",
    "\n",
    "    # Train the model using the training sets\n",
    "    regr.fit(X_train, y_train)\n",
    "    score = regr.score(X_test, y_test)\n",
    "    if (score>0.7):\n",
    "        print('['+str(i)+']'+'Score: ', score)\n",
    "\n",
    "    # Make predictions using the testing set\n",
    "    y_pred = regr.predict(X_test)\n"
   ]
  },
  {
   "cell_type": "code",
   "execution_count": 151,
   "metadata": {},
   "outputs": [
    {
     "name": "stdout",
     "output_type": "stream",
     "text": [
      "[10]Score:  0.9731675069393144\n"
     ]
    }
   ],
   "source": [
    "X = X_tot[:, np.newaxis, 10]     #Selecting each one colum data \n",
    "\n",
    "# Split the data into training/testing sets\n",
    "X_train = X[:-20]\n",
    "X_test = X[-20:]\n",
    "#print(type(X_train),X_train.shape)\n",
    "\n",
    "# Split the targets into training/testing sets\n",
    "y_train = y[:-20]\n",
    "\n",
    "y_test = y[-20:]\n",
    "#print(type(y_train),y_train.shape)\n",
    "\n",
    "# Create linear regression object\n",
    "regr = linear_model.LinearRegression()\n",
    "\n",
    "\n",
    "# Train the model using the training sets\n",
    "regr.fit(X_train, y_train)\n",
    "\n",
    "print('['+str(10)+']'+'Score: ', regr.score(X_test, y_test))\n",
    "\n",
    "# Make predictions using the testing set\n",
    "y_pred = regr.predict(X_test)\n"
   ]
  },
  {
   "cell_type": "code",
   "execution_count": 152,
   "metadata": {},
   "outputs": [
    {
     "name": "stdout",
     "output_type": "stream",
     "text": [
      "Score:  0.9731675069393144\n"
     ]
    }
   ],
   "source": [
    "# Create linear regression object\n",
    "regr = linear_model.LinearRegression()\n",
    "\n",
    "\n",
    "# Train the model using the training sets\n",
    "regr.fit(X_train, y_train)\n",
    "\n",
    "print('Score: ', regr.score(X_test, y_test))\n",
    "\n",
    "# Make predictions using the testing set\n",
    "y_pred = regr.predict(X_test)\n",
    "\n"
   ]
  },
  {
   "cell_type": "code",
   "execution_count": 153,
   "metadata": {},
   "outputs": [
    {
     "name": "stdout",
     "output_type": "stream",
     "text": [
      "Coefficients: \n",
      " [-0.97054103]\n",
      "Mean squared error: 6.14\n",
      "Variance score: 0.97\n"
     ]
    }
   ],
   "source": [
    "# The coefficients\n",
    "print('Coefficients: \\n', regr.coef_)\n",
    "# The mean squared error\n",
    "print(\"Mean squared error: %.2f\"\n",
    "      % mean_squared_error(y_test, y_pred))\n",
    "# Explained variance score: 1 is perfect prediction\n",
    "print('Variance score: %.2f' % r2_score(y_test, y_pred))"
   ]
  },
  {
   "cell_type": "code",
   "execution_count": 154,
   "metadata": {},
   "outputs": [
    {
     "data": {
      "image/png": "[encoded data removed]",
      "text/plain": [
       "<Figure size 432x288 with 1 Axes>"
      ]
     },
     "metadata": {},
     "output_type": "display_data"
    }
   ],
   "source": [
    "# Plot outputs\n",
    "plt.scatter(X_test, y_test,  color='black')\n",
    "plt.plot(X_test, y_pred, color='blue', linewidth=3)\n",
    "\n",
    "plt.xticks(())\n",
    "plt.yticks(())\n",
    "\n",
    "plt.show()"
   ]
  },
  {
   "cell_type": "markdown",
   "metadata": {},
   "source": [
    "Fuente: https://github.com/ludobouan/linear-regression-sklearn"
   ]
  },
  {
   "cell_type": "code",
   "execution_count": null,
   "metadata": {},
   "outputs": [],
   "source": []
  }
 ],
 "metadata": {
  "kernelspec": {
   "display_name": "Python 3",
   "language": "python",
   "name": "python3"
  },
  "language_info": {
   "codemirror_mode": {
    "name": "ipython",
    "version": 3
   },
   "file_extension": ".py",
   "mimetype": "text/x-python",
   "name": "python",
   "nbconvert_exporter": "python",
   "pygments_lexer": "ipython3",
   "version": "3.6.6"
  }
 },
 "nbformat": 4,
 "nbformat_minor": 2
}
