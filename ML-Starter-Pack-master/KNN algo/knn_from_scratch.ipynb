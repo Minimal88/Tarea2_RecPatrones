{
 "cells": [
  {
   "cell_type": "markdown",
   "metadata": {},
   "source": [
    "# K- Nearest Neighbours Classification  "
   ]
  },
  {
   "cell_type": "raw",
   "metadata": {},
   "source": [
    "KNN is a simple Classification Algorithm. An object is classified by a majority vote of its neighbors, with the object being assigned to the class most common among its k nearest neighbors (k is a positive integer, typically small). If k = 1, then the object is simply assigned to the class of that single nearest neighbor."
   ]
  },
  {
   "cell_type": "code",
   "execution_count": 1,
   "metadata": {},
   "outputs": [],
   "source": [
    "# getting the required libraries\n",
    "import pandas as pd\n",
    "import numpy as np\n",
    "import matplotlib.pyplot as plt\n",
    "import warnings\n",
    "from matplotlib import style\n",
    "from collections import Counter\n",
    "import random\n",
    "style.use('fivethirtyeight')"
   ]
  },
  {
   "cell_type": "markdown",
   "metadata": {
    "collapsed": true
   },
   "source": [
    "In this notebook, we implement the algorithm from the basics. For the purpose of visualization, we will first test the model on 2-dimensional data points. Later, we employ the same model on the Iris Dataset."
   ]
  },
  {
   "cell_type": "code",
   "execution_count": 2,
   "metadata": {},
   "outputs": [],
   "source": [
    "# knn method (3 neighbors by default)\n",
    "def knn(data,predict,k=3):\n",
    "    \n",
    "    # data is the training set \n",
    "    # predict is a single test data instance\n",
    "    # k is number of nearest neighbors used for classification (user parameter)\n",
    "    \n",
    "    if len(data)>=k:\n",
    "        warnings.warn('K is set to value less than total voting groups!')\n",
    "    \n",
    "    # distances stores distance and label of the training points from the test point\n",
    "    distances = []\n",
    "    for group in data:\n",
    "        for features in data[group]:\n",
    "            euclidean_distance = np.linalg.norm(np.array(features)-np.array(predict))\n",
    "            distances.append([euclidean_distance, group])\n",
    "    \n",
    "    # sort distances in increasing order and take the label of the least k among them\n",
    "    votes = [i[1] for i in sorted(distances)[:k]]\n",
    "    \n",
    "    # find the label which occurs the most and proportion of the its occurence\n",
    "    vote_result = Counter(votes).most_common(1)[0][0]\n",
    "    confidence = Counter(votes).most_common(1)[0][1]/k\n",
    "    return vote_result , confidence   "
   ]
  },
  {
   "cell_type": "raw",
   "metadata": {},
   "source": [
    "Training and Testing against 2 dimensional data"
   ]
  },
  {
   "cell_type": "code",
   "execution_count": 3,
   "metadata": {},
   "outputs": [
    {
     "name": "stdout",
     "output_type": "stream",
     "text": [
      "('r', 1.0)\n"
     ]
    }
   ],
   "source": [
    "# train set\n",
    "# 3 points each in 2 classes ('k': black, 'r':red)\n",
    "dataset = {'k':[[1,2],[2,3],[3,1]] , 'r':[[6,5],[7,7],[8,6]]}\n",
    "\n",
    "# test instance\n",
    "new_features = [5,7]\n",
    "\n",
    "result = knn(dataset,new_features,3)\n",
    "print(result)"
   ]
  },
  {
   "cell_type": "code",
   "execution_count": 4,
   "metadata": {},
   "outputs": [
    {
     "data": {
      "image/png": "[encoded data removed]",
      "text/plain": [
       "<Figure size 432x288 with 1 Axes>"
      ]
     },
     "metadata": {},
     "output_type": "display_data"
    }
   ],
   "source": [
    "# plotting the points\n",
    "[[plt.scatter(ii[0],ii[1],s=100,c=i) for ii in dataset[i]] for i in dataset]\n",
    "plt.scatter(new_features[0],new_features[1],s=50,c=result[0])\n",
    "\n",
    "plt.show()"
   ]
  },
  {
   "cell_type": "markdown",
   "metadata": {},
   "source": [
    "# Applying on Iris Dataset "
   ]
  },
  {
   "cell_type": "code",
   "execution_count": 5,
   "metadata": {},
   "outputs": [
    {
     "data": {
      "text/html": [
       "<div>\n",
       "<style scoped>\n",
       "    .dataframe tbody tr th:only-of-type {\n",
       "        vertical-align: middle;\n",
       "    }\n",
       "\n",
       "    .dataframe tbody tr th {\n",
       "        vertical-align: top;\n",
       "    }\n",
       "\n",
       "    .dataframe thead th {\n",
       "        text-align: right;\n",
       "    }\n",
       "</style>\n",
       "<table border=\"1\" class=\"dataframe\">\n",
       "  <thead>\n",
       "    <tr style=\"text-align: right;\">\n",
       "      <th></th>\n",
       "      <th>SepalLength</th>\n",
       "      <th>SepalWidth</th>\n",
       "      <th>PetalLength</th>\n",
       "      <th>PetalWidth</th>\n",
       "      <th>Species</th>\n",
       "    </tr>\n",
       "  </thead>\n",
       "  <tbody>\n",
       "    <tr>\n",
       "      <th>0</th>\n",
       "      <td>5.1</td>\n",
       "      <td>3.5</td>\n",
       "      <td>1.4</td>\n",
       "      <td>0.2</td>\n",
       "      <td>Iris-setosa</td>\n",
       "    </tr>\n",
       "    <tr>\n",
       "      <th>1</th>\n",
       "      <td>4.9</td>\n",
       "      <td>3.0</td>\n",
       "      <td>1.4</td>\n",
       "      <td>0.2</td>\n",
       "      <td>Iris-setosa</td>\n",
       "    </tr>\n",
       "    <tr>\n",
       "      <th>2</th>\n",
       "      <td>4.7</td>\n",
       "      <td>3.2</td>\n",
       "      <td>1.3</td>\n",
       "      <td>0.2</td>\n",
       "      <td>Iris-setosa</td>\n",
       "    </tr>\n",
       "    <tr>\n",
       "      <th>3</th>\n",
       "      <td>4.6</td>\n",
       "      <td>3.1</td>\n",
       "      <td>1.5</td>\n",
       "      <td>0.2</td>\n",
       "      <td>Iris-setosa</td>\n",
       "    </tr>\n",
       "    <tr>\n",
       "      <th>4</th>\n",
       "      <td>5.0</td>\n",
       "      <td>3.6</td>\n",
       "      <td>1.4</td>\n",
       "      <td>0.2</td>\n",
       "      <td>Iris-setosa</td>\n",
       "    </tr>\n",
       "  </tbody>\n",
       "</table>\n",
       "</div>"
      ],
      "text/plain": [
       "   SepalLength  SepalWidth  PetalLength  PetalWidth      Species\n",
       "0          5.1         3.5          1.4         0.2  Iris-setosa\n",
       "1          4.9         3.0          1.4         0.2  Iris-setosa\n",
       "2          4.7         3.2          1.3         0.2  Iris-setosa\n",
       "3          4.6         3.1          1.5         0.2  Iris-setosa\n",
       "4          5.0         3.6          1.4         0.2  Iris-setosa"
      ]
     },
     "execution_count": 5,
     "metadata": {},
     "output_type": "execute_result"
    }
   ],
   "source": [
    "# importing the Iris Dataset\n",
    "df = pd.read_csv('Iris.csv')\n",
    "species = df['Species'].unique()\n",
    "df.drop(['Id'],1,inplace=True)\n",
    "df.head()"
   ]
  },
  {
   "cell_type": "code",
   "execution_count": 16,
   "metadata": {},
   "outputs": [
    {
     "name": "stdout",
     "output_type": "stream",
     "text": [
      "Iris-setosa\n",
      "Iris-virginica\n",
      "Iris-setosa\n",
      "Iris-setosa\n",
      "Iris-virginica\n",
      "Iris-virginica\n",
      "Iris-setosa\n",
      "Iris-virginica\n",
      "Iris-setosa\n",
      "Iris-versicolor\n",
      "Iris-virginica\n",
      "Iris-setosa\n",
      "Iris-virginica\n",
      "Iris-setosa\n",
      "Iris-virginica\n",
      "Iris-versicolor\n",
      "Iris-versicolor\n",
      "Iris-versicolor\n",
      "Iris-versicolor\n",
      "Iris-setosa\n",
      "Iris-versicolor\n",
      "Iris-setosa\n",
      "Iris-versicolor\n",
      "Iris-setosa\n",
      "Iris-virginica\n",
      "Iris-versicolor\n",
      "Iris-versicolor\n",
      "Iris-setosa\n",
      "Iris-versicolor\n",
      "Iris-setosa\n",
      "{'Iris-setosa': [[5.2, 4.1, 1.5, 0.1], [4.9, 3.1, 1.5, 0.1], [5.0, 3.0, 1.6, 0.2], [5.0, 3.4, 1.6, 0.4], [5.5, 4.2, 1.4, 0.2], [5.8, 4.0, 1.2, 0.2], [5.5, 3.5, 1.3, 0.2], [4.3, 3.0, 1.1, 0.1], [4.7, 3.2, 1.6, 0.2], [4.8, 3.0, 1.4, 0.3], [4.6, 3.2, 1.4, 0.2], [5.4, 3.4, 1.7, 0.2]], 'Iris-versicolor': [[6.4, 2.9, 4.3, 1.3], [6.8, 2.8, 4.8, 1.4], [6.3, 3.3, 4.7, 1.6], [5.5, 2.4, 3.8, 1.1], [6.7, 3.0, 5.0, 1.7], [6.0, 2.2, 4.0, 1.0], [5.5, 2.6, 4.4, 1.2], [6.3, 2.3, 4.4, 1.3], [5.8, 2.7, 3.9, 1.2], [6.2, 2.2, 4.5, 1.5]], 'Iris-virginica': [[7.4, 2.8, 6.1, 1.9], [6.3, 2.9, 5.6, 1.8], [5.7, 2.5, 5.0, 2.0], [6.4, 2.8, 5.6, 2.2], [6.5, 3.0, 5.5, 1.8], [6.4, 2.8, 5.6, 2.1], [7.2, 3.0, 5.8, 1.6], [7.3, 2.9, 6.3, 1.8]]}\n"
     ]
    }
   ],
   "source": [
    "# converting the dataframe to a list\n",
    "full_data = df.values.tolist()\n",
    "\n",
    "# shuffling the records\n",
    "random.shuffle(full_data)\n",
    "\n",
    "# splitting the dataset into train(80%) and test sets(20%)\n",
    "test_size = 0.2\n",
    "train_set = {species[0]:[],species[1]:[],species[2]:[]}\n",
    "test_set = {species[0]:[],species[1]:[],species[2]:[]}\n",
    "train_data = full_data[:-int(test_size*len(full_data))]\n",
    "test_data = full_data[-int(test_size*len(full_data)):]\n",
    "#print(test_data)\n",
    "\n",
    "for i in test_data:\n",
    "    print(i[-1])\n",
    "    test_set[i[-1]].append(i[:-1])\n",
    "print(test_set)\n",
    "#print(test_set)\n",
    "for i in train_data:\n",
    "    train_set[i[-1]].append(i[:-1])    "
   ]
  },
  {
   "cell_type": "markdown",
   "metadata": {},
   "source": [
    "Calculating the accuracy. Also displaying the confidence in case of incorrect prediction."
   ]
  },
  {
   "cell_type": "code",
   "execution_count": 7,
   "metadata": {},
   "outputs": [
    {
     "name": "stdout",
     "output_type": "stream",
     "text": [
      "1.0\n",
      "Accuracy: 0.9666666666666667\n"
     ]
    }
   ],
   "source": [
    "correct = 0\n",
    "total = 0\n",
    "\n",
    "for group in test_set:\n",
    "    for data in test_set[group]:\n",
    "        vote, confidence = knn(train_set,data,k=5)\n",
    "        if vote==group:\n",
    "            correct +=1\n",
    "        else:\n",
    "            print(confidence)\n",
    "        total +=1\n",
    "\n",
    "print('Accuracy:',correct/total)"
   ]
  }
 ],
 "metadata": {
  "kernelspec": {
   "display_name": "Python 3",
   "language": "python",
   "name": "python3"
  },
  "language_info": {
   "codemirror_mode": {
    "name": "ipython",
    "version": 3
   },
   "file_extension": ".py",
   "mimetype": "text/x-python",
   "name": "python",
   "nbconvert_exporter": "python",
   "pygments_lexer": "ipython3",
   "version": "3.6.6"
  }
 },
 "nbformat": 4,
 "nbformat_minor": 2
}
