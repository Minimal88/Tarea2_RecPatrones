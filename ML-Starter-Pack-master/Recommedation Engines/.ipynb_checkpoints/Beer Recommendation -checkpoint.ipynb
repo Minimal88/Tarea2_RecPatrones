{
 "cells": [
  {
   "cell_type": "markdown",
   "metadata": {},
   "source": [
    "# Building Recommendation System\n",
    "\n",
    "To build any Recommendation sysytem we need sample data on which we can appyl it .\n",
    "So, I've given you a sample data to download on which we will perform our simple steps and algorithms.\n",
    "If we have enough data of people choosing different projects in KWOC, then we can also build RS for Projects according to Students choice."
   ]
  },
  {
   "cell_type": "markdown",
   "metadata": {},
   "source": [
    "[Download Sample Data](https://s3.amazonaws.com/demo-datasets/beer_reviews.tar.gz)\n",
    "\n",
    "Download this and keep this in the same folder in which you are making this file.\n",
    "Give it any name , but make sure you change in the consequent steps"
   ]
  },
  {
   "cell_type": "code",
   "execution_count": 2,
   "metadata": {},
   "outputs": [],
   "source": [
    "import pandas as pd\n",
    "import numpy as np\n",
    "import pylab as pl"
   ]
  },
  {
   "cell_type": "code",
   "execution_count": 7,
   "metadata": {},
   "outputs": [
    {
     "data": {
      "text/html": [
       "<div>\n",
       "<style scoped>\n",
       "    .dataframe tbody tr th:only-of-type {\n",
       "        vertical-align: middle;\n",
       "    }\n",
       "\n",
       "    .dataframe tbody tr th {\n",
       "        vertical-align: top;\n",
       "    }\n",
       "\n",
       "    .dataframe thead th {\n",
       "        text-align: right;\n",
       "    }\n",
       "</style>\n",
       "<table border=\"1\" class=\"dataframe\">\n",
       "  <thead>\n",
       "    <tr style=\"text-align: right;\">\n",
       "      <th></th>\n",
       "      <th>brewery_id</th>\n",
       "      <th>brewery_name</th>\n",
       "      <th>review_time</th>\n",
       "      <th>review_overall</th>\n",
       "      <th>review_aroma</th>\n",
       "      <th>review_appearance</th>\n",
       "      <th>review_profilename</th>\n",
       "      <th>beer_style</th>\n",
       "      <th>review_palate</th>\n",
       "      <th>review_taste</th>\n",
       "      <th>beer_name</th>\n",
       "      <th>beer_abv</th>\n",
       "      <th>beer_beerid</th>\n",
       "    </tr>\n",
       "  </thead>\n",
       "  <tbody>\n",
       "    <tr>\n",
       "      <th>0</th>\n",
       "      <td>10325</td>\n",
       "      <td>Vecchio Birraio</td>\n",
       "      <td>1234817823</td>\n",
       "      <td>1.5</td>\n",
       "      <td>2.0</td>\n",
       "      <td>2.5</td>\n",
       "      <td>stcules</td>\n",
       "      <td>Hefeweizen</td>\n",
       "      <td>1.5</td>\n",
       "      <td>1.5</td>\n",
       "      <td>Sausa Weizen</td>\n",
       "      <td>5.0</td>\n",
       "      <td>47986</td>\n",
       "    </tr>\n",
       "    <tr>\n",
       "      <th>1</th>\n",
       "      <td>10325</td>\n",
       "      <td>Vecchio Birraio</td>\n",
       "      <td>1235915097</td>\n",
       "      <td>3.0</td>\n",
       "      <td>2.5</td>\n",
       "      <td>3.0</td>\n",
       "      <td>stcules</td>\n",
       "      <td>English Strong Ale</td>\n",
       "      <td>3.0</td>\n",
       "      <td>3.0</td>\n",
       "      <td>Red Moon</td>\n",
       "      <td>6.2</td>\n",
       "      <td>48213</td>\n",
       "    </tr>\n",
       "    <tr>\n",
       "      <th>2</th>\n",
       "      <td>10325</td>\n",
       "      <td>Vecchio Birraio</td>\n",
       "      <td>1235916604</td>\n",
       "      <td>3.0</td>\n",
       "      <td>2.5</td>\n",
       "      <td>3.0</td>\n",
       "      <td>stcules</td>\n",
       "      <td>Foreign / Export Stout</td>\n",
       "      <td>3.0</td>\n",
       "      <td>3.0</td>\n",
       "      <td>Black Horse Black Beer</td>\n",
       "      <td>6.5</td>\n",
       "      <td>48215</td>\n",
       "    </tr>\n",
       "    <tr>\n",
       "      <th>3</th>\n",
       "      <td>10325</td>\n",
       "      <td>Vecchio Birraio</td>\n",
       "      <td>1234725145</td>\n",
       "      <td>3.0</td>\n",
       "      <td>3.0</td>\n",
       "      <td>3.5</td>\n",
       "      <td>stcules</td>\n",
       "      <td>German Pilsener</td>\n",
       "      <td>2.5</td>\n",
       "      <td>3.0</td>\n",
       "      <td>Sausa Pils</td>\n",
       "      <td>5.0</td>\n",
       "      <td>47969</td>\n",
       "    </tr>\n",
       "    <tr>\n",
       "      <th>4</th>\n",
       "      <td>1075</td>\n",
       "      <td>Caldera Brewing Company</td>\n",
       "      <td>1293735206</td>\n",
       "      <td>4.0</td>\n",
       "      <td>4.5</td>\n",
       "      <td>4.0</td>\n",
       "      <td>johnmichaelsen</td>\n",
       "      <td>American Double / Imperial IPA</td>\n",
       "      <td>4.0</td>\n",
       "      <td>4.5</td>\n",
       "      <td>Cauldron DIPA</td>\n",
       "      <td>7.7</td>\n",
       "      <td>64883</td>\n",
       "    </tr>\n",
       "  </tbody>\n",
       "</table>\n",
       "</div>"
      ],
      "text/plain": [
       "   brewery_id             brewery_name  review_time  review_overall  \\\n",
       "0       10325          Vecchio Birraio   1234817823             1.5   \n",
       "1       10325          Vecchio Birraio   1235915097             3.0   \n",
       "2       10325          Vecchio Birraio   1235916604             3.0   \n",
       "3       10325          Vecchio Birraio   1234725145             3.0   \n",
       "4        1075  Caldera Brewing Company   1293735206             4.0   \n",
       "\n",
       "   review_aroma  review_appearance review_profilename  \\\n",
       "0           2.0                2.5            stcules   \n",
       "1           2.5                3.0            stcules   \n",
       "2           2.5                3.0            stcules   \n",
       "3           3.0                3.5            stcules   \n",
       "4           4.5                4.0     johnmichaelsen   \n",
       "\n",
       "                       beer_style  review_palate  review_taste  \\\n",
       "0                      Hefeweizen            1.5           1.5   \n",
       "1              English Strong Ale            3.0           3.0   \n",
       "2          Foreign / Export Stout            3.0           3.0   \n",
       "3                 German Pilsener            2.5           3.0   \n",
       "4  American Double / Imperial IPA            4.0           4.5   \n",
       "\n",
       "                beer_name  beer_abv  beer_beerid  \n",
       "0            Sausa Weizen       5.0        47986  \n",
       "1                Red Moon       6.2        48213  \n",
       "2  Black Horse Black Beer       6.5        48215  \n",
       "3              Sausa Pils       5.0        47969  \n",
       "4           Cauldron DIPA       7.7        64883  "
      ]
     },
     "execution_count": 7,
     "metadata": {},
     "output_type": "execute_result"
    }
   ],
   "source": [
    "# substitute your name here. If you're on windows you'll need a different filepath\n",
    "#df = pd.read_csv(\"/Downloads/Kharagpur Winter of Code | Projects_files/ML Starter Pack/ML-Starter-Pack/Recommedation Engines/beer_reviews/beer_reviews.csv\")\n",
    "df = pd.read_csv(\"beer_reviews.csv\")\n",
    "df.head()"
   ]
  },
  {
   "cell_type": "markdown",
   "metadata": {},
   "source": [
    "# Finding People Who Have Reviewed 2 Beers"
   ]
  },
  {
   "cell_type": "code",
   "execution_count": 8,
   "metadata": {},
   "outputs": [
    {
     "name": "stdout",
     "output_type": "stream",
     "text": [
      "Users in the sameset: 499\n"
     ]
    },
    {
     "data": {
      "text/plain": [
       "['womencantsail',\n",
       " 'Marty30',\n",
       " 'Winter',\n",
       " 'Lothore',\n",
       " 'bump8628',\n",
       " 'gford217',\n",
       " 'lackenhauser',\n",
       " 'wspscott',\n",
       " 'mjurney',\n",
       " 'LiquidBread219']"
      ]
     },
     "execution_count": 8,
     "metadata": {},
     "output_type": "execute_result"
    }
   ],
   "source": [
    "beer_1, beer_2 = \"Dale's Pale Ale\", \"Fat Tire Amber Ale\"\n",
    "\n",
    "beer_1_reviewers = df[df.beer_name==beer_1].review_profilename.unique()\n",
    "beer_2_reviewers = df[df.beer_name==beer_2].review_profilename.unique()\n",
    "common_reviewers = set(beer_1_reviewers).intersection(beer_2_reviewers)\n",
    "print \"Users in the sameset: %d\" % len(common_reviewers)\n",
    "list(common_reviewers)[:10]"
   ]
  },
  {
   "cell_type": "markdown",
   "metadata": {},
   "source": [
    "# Extracting Reviews"
   ]
  },
  {
   "cell_type": "code",
   "execution_count": 10,
   "metadata": {},
   "outputs": [
    {
     "data": {
      "text/html": [
       "<div>\n",
       "<style scoped>\n",
       "    .dataframe tbody tr th:only-of-type {\n",
       "        vertical-align: middle;\n",
       "    }\n",
       "\n",
       "    .dataframe tbody tr th {\n",
       "        vertical-align: top;\n",
       "    }\n",
       "\n",
       "    .dataframe thead th {\n",
       "        text-align: right;\n",
       "    }\n",
       "</style>\n",
       "<table border=\"1\" class=\"dataframe\">\n",
       "  <thead>\n",
       "    <tr style=\"text-align: right;\">\n",
       "      <th></th>\n",
       "      <th>beer_name</th>\n",
       "      <th>review_profilename</th>\n",
       "      <th>review_overall</th>\n",
       "      <th>review_aroma</th>\n",
       "      <th>review_palate</th>\n",
       "      <th>review_taste</th>\n",
       "    </tr>\n",
       "  </thead>\n",
       "  <tbody>\n",
       "    <tr>\n",
       "      <th>202456</th>\n",
       "      <td>Fat Tire Amber Ale</td>\n",
       "      <td>ATPete</td>\n",
       "      <td>4.5</td>\n",
       "      <td>4.0</td>\n",
       "      <td>4.0</td>\n",
       "      <td>4.5</td>\n",
       "    </tr>\n",
       "    <tr>\n",
       "      <th>201458</th>\n",
       "      <td>Fat Tire Amber Ale</td>\n",
       "      <td>AdamBear</td>\n",
       "      <td>3.5</td>\n",
       "      <td>2.5</td>\n",
       "      <td>4.5</td>\n",
       "      <td>3.5</td>\n",
       "    </tr>\n",
       "    <tr>\n",
       "      <th>201886</th>\n",
       "      <td>Fat Tire Amber Ale</td>\n",
       "      <td>AlCaponeJunior</td>\n",
       "      <td>2.0</td>\n",
       "      <td>3.0</td>\n",
       "      <td>3.5</td>\n",
       "      <td>3.0</td>\n",
       "    </tr>\n",
       "    <tr>\n",
       "      <th>202481</th>\n",
       "      <td>Fat Tire Amber Ale</td>\n",
       "      <td>AltBock</td>\n",
       "      <td>4.0</td>\n",
       "      <td>3.0</td>\n",
       "      <td>3.0</td>\n",
       "      <td>3.0</td>\n",
       "    </tr>\n",
       "    <tr>\n",
       "      <th>201803</th>\n",
       "      <td>Fat Tire Amber Ale</td>\n",
       "      <td>Andreji</td>\n",
       "      <td>4.0</td>\n",
       "      <td>4.5</td>\n",
       "      <td>4.0</td>\n",
       "      <td>4.0</td>\n",
       "    </tr>\n",
       "  </tbody>\n",
       "</table>\n",
       "</div>"
      ],
      "text/plain": [
       "                 beer_name review_profilename  review_overall  review_aroma  \\\n",
       "202456  Fat Tire Amber Ale             ATPete             4.5           4.0   \n",
       "201458  Fat Tire Amber Ale           AdamBear             3.5           2.5   \n",
       "201886  Fat Tire Amber Ale     AlCaponeJunior             2.0           3.0   \n",
       "202481  Fat Tire Amber Ale            AltBock             4.0           3.0   \n",
       "201803  Fat Tire Amber Ale            Andreji             4.0           4.5   \n",
       "\n",
       "        review_palate  review_taste  \n",
       "202456            4.0           4.5  \n",
       "201458            4.5           3.5  \n",
       "201886            3.5           3.0  \n",
       "202481            3.0           3.0  \n",
       "201803            4.0           4.0  "
      ]
     },
     "execution_count": 10,
     "metadata": {},
     "output_type": "execute_result"
    }
   ],
   "source": [
    "def get_beer_reviews(beer, common_users):\n",
    "    mask = (df.review_profilename.isin(common_users)) & (df.beer_name==beer)\n",
    "    reviews = df[mask].sort_values('review_profilename')\n",
    "    reviews = reviews[reviews.review_profilename.duplicated()==False]\n",
    "    return reviews\n",
    "beer_1_reviews = get_beer_reviews(beer_1, common_reviewers)\n",
    "beer_2_reviews = get_beer_reviews(beer_2, common_reviewers)\n",
    "\n",
    "cols = ['beer_name', 'review_profilename', 'review_overall', 'review_aroma', 'review_palate', 'review_taste']\n",
    "beer_2_reviews[cols].head()"
   ]
  },
  {
   "cell_type": "markdown",
   "metadata": {},
   "source": [
    "# Calculating Distance"
   ]
  },
  {
   "cell_type": "code",
   "execution_count": 11,
   "metadata": {},
   "outputs": [
    {
     "ename": "ValueError",
     "evalue": "Expected 2D array, got 1D array instead:\narray=[ 3.5  4.5  4.5  4.5  4.   4.5  3.5  4.5  4.   4.   4.   4.5  3.5  3.5  4.\n  4.5  4.5  3.5  3.   3.5  3.5  3.5  2.5  4.5  4.   5.   3.   4.5  4.   4.5\n  4.   4.5  3.5  4.   4.5  4.   3.5  4.   1.5  4.   4.5  3.5  4.   4.   4.5\n  5.   4.   4.   4.   4.   4.5  3.   4.5  4.5  3.5  3.5  4.5  3.   4.   4.\n  4.   4.   3.   5.   4.5  4.   4.   3.   3.5  4.   4.   3.5  4.5  4.   4.\n  4.   4.   4.   4.   4.5  4.   4.   3.5  4.5  4.5  4.5  4.   4.5  4.5  4.\n  4.   4.   4.5  2.   4.   4.5  3.5  5.   4.   4.   4.   4.5  4.   4.   4.\n  4.5  4.   4.   4.5  4.5  4.   4.   3.   3.5  5.   4.5  4.   3.5  5.   4.\n  4.5  4.5  5.   4.5  4.5  4.   4.   4.   4.5  4.   3.5  4.   4.   3.   4.\n  4.5  4.5  4.   4.   4.5  4.   2.5  4.5  4.   4.   3.   4.5  4.   4.5  4.5\n  4.   4.   4.   4.   3.5  3.5  4.5  3.5  3.5  3.   4.5  4.   3.   4.   3.\n  4.5  3.5  4.5  4.   3.5  4.   4.5  3.5  4.   4.5  4.   3.5  4.   3.5  4.5\n  4.   3.5  4.   4.   4.5  4.   4.   3.5  3.5  3.5  4.   4.   4.   4.   4.5\n  4.   3.5  4.5  4.   4.   4.   4.5  3.   4.   3.5  4.5  4.   3.5  4.   5.\n  4.   4.5  4.   4.   4.5  4.   4.5  4.5  4.5  4.   4.   4.5  4.   3.5  4.\n  4.   4.   3.5  4.   3.   3.5  4.   4.   4.   5.   5.   4.   4.   2.5  4.5\n  4.   4.5  4.   4.5  4.5  4.   4.   5.   3.   3.5  3.5  4.   5.   4.   4.\n  4.   5.   4.5  4.   4.   4.   3.5  4.5  4.   4.   4.   4.5  3.5  4.   4.\n  4.   4.   3.5  4.5  4.   3.5  4.5  4.   4.   4.   2.5  4.   3.5  4.   4.5\n  4.5  4.   4.5  4.   3.   3.5  4.5  4.   4.5  3.5  3.   4.5  4.   4.   4.\n  4.   4.   4.5  3.5  3.5  4.   4.   3.5  5.   5.   4.   5.   3.5  4.   4.5\n  3.5  3.   4.   4.   4.   3.5  3.5  4.5  4.   4.   4.5  4.   4.5  4.5  4.\n  4.   4.5  5.   2.5  4.   4.   5.   4.5  4.5  4.   4.   4.5  4.   3.5  4.5\n  4.5  4.   4.5  4.   4.   4.5  5.   4.   5.   4.5  4.   5.   4.   3.   4.\n  4.   4.   4.   4.   4.   4.5  4.   3.   3.   3.5  4.5  4.5  4.   4.   4.5\n  4.   4.   2.5  4.   4.   3.5  4.   4.5  5.   4.   5.   3.   5.   4.   4.5\n  4.5  4.   5.   4.   5.   4.5  3.5  3.5  4.5  4.   4.   4.   4.5  4.5  4.5\n  4.   4.   2.   3.   4.   4.5  4.5  4.   3.   4.5  4.   4.5  5.   3.   4.\n  4.5  2.5  3.5  5.   4.   4.5  4.5  3.5  4.5  4.   3.5  3.   4.5  3.5  4.\n  4.   4.5  3.5  5.   4.   4.   4.5  4.5  4.   3.5  4.   4.   4.   4.   4.5\n  5.   4.   3.5  3.5  4.5  4.   4.5  4.   4.5  4.5  4.   4.   4.   4.   4.5\n  3.   3.   5.   4.   3.   4.5  4.   4.   3.5  4.   3.5  4.5  4.   4.5  3.\n  4.5  4.5  4.5  4.5  3.5  4.5  4.   4.5  4.5  4.   5.   4.   3.   4.5  5.\n  4.   3.5  4.   4.5].\nReshape your data either using array.reshape(-1, 1) if your data has a single feature or array.reshape(1, -1) if it contains a single sample.",
     "output_type": "error",
     "traceback": [
      "\u001b[0;31m---------------------------------------------------------------------------\u001b[0m",
      "\u001b[0;31mValueError\u001b[0m                                Traceback (most recent call last)",
      "\u001b[0;32m<ipython-input-11-438210631091>\u001b[0m in \u001b[0;36m<module>\u001b[0;34m()\u001b[0m\n\u001b[1;32m     21\u001b[0m     \u001b[0;32mreturn\u001b[0m \u001b[0mdists\u001b[0m\u001b[0;34m\u001b[0m\u001b[0m\n\u001b[1;32m     22\u001b[0m \u001b[0;34m\u001b[0m\u001b[0m\n\u001b[0;32m---> 23\u001b[0;31m \u001b[0mcalculate_similarity\u001b[0m\u001b[0;34m(\u001b[0m\u001b[0mbeer_1\u001b[0m\u001b[0;34m,\u001b[0m \u001b[0mbeer_2\u001b[0m\u001b[0;34m)\u001b[0m\u001b[0;34m\u001b[0m\u001b[0m\n\u001b[0m",
      "\u001b[0;32m<ipython-input-11-438210631091>\u001b[0m in \u001b[0;36mcalculate_similarity\u001b[0;34m(beer1, beer2)\u001b[0m\n\u001b[1;32m     17\u001b[0m     \u001b[0mdists\u001b[0m \u001b[0;34m=\u001b[0m \u001b[0;34m[\u001b[0m\u001b[0;34m]\u001b[0m\u001b[0;34m\u001b[0m\u001b[0m\n\u001b[1;32m     18\u001b[0m     \u001b[0;32mfor\u001b[0m \u001b[0mf\u001b[0m \u001b[0;32min\u001b[0m \u001b[0mALL_FEATURES\u001b[0m\u001b[0;34m:\u001b[0m\u001b[0;34m\u001b[0m\u001b[0m\n\u001b[0;32m---> 19\u001b[0;31m         \u001b[0mdists\u001b[0m\u001b[0;34m.\u001b[0m\u001b[0mappend\u001b[0m\u001b[0;34m(\u001b[0m\u001b[0meuclidean_distances\u001b[0m\u001b[0;34m(\u001b[0m\u001b[0mbeer_1_reviews\u001b[0m\u001b[0;34m[\u001b[0m\u001b[0mf\u001b[0m\u001b[0;34m]\u001b[0m\u001b[0;34m,\u001b[0m \u001b[0mbeer_2_reviews\u001b[0m\u001b[0;34m[\u001b[0m\u001b[0mf\u001b[0m\u001b[0;34m]\u001b[0m\u001b[0;34m)\u001b[0m\u001b[0;34m[\u001b[0m\u001b[0;36m0\u001b[0m\u001b[0;34m]\u001b[0m\u001b[0;34m[\u001b[0m\u001b[0;36m0\u001b[0m\u001b[0;34m]\u001b[0m\u001b[0;34m)\u001b[0m\u001b[0;34m\u001b[0m\u001b[0m\n\u001b[0m\u001b[1;32m     20\u001b[0m \u001b[0;34m\u001b[0m\u001b[0m\n\u001b[1;32m     21\u001b[0m     \u001b[0;32mreturn\u001b[0m \u001b[0mdists\u001b[0m\u001b[0;34m\u001b[0m\u001b[0m\n",
      "\u001b[0;32m/home/parii/.local/lib/python2.7/site-packages/sklearn/metrics/pairwise.pyc\u001b[0m in \u001b[0;36meuclidean_distances\u001b[0;34m(X, Y, Y_norm_squared, squared, X_norm_squared)\u001b[0m\n\u001b[1;32m    221\u001b[0m     \u001b[0mpaired_distances\u001b[0m \u001b[0;34m:\u001b[0m \u001b[0mdistances\u001b[0m \u001b[0mbetweens\u001b[0m \u001b[0mpairs\u001b[0m \u001b[0mof\u001b[0m \u001b[0melements\u001b[0m \u001b[0mof\u001b[0m \u001b[0mX\u001b[0m \u001b[0;32mand\u001b[0m \u001b[0mY\u001b[0m\u001b[0;34m.\u001b[0m\u001b[0;34m\u001b[0m\u001b[0m\n\u001b[1;32m    222\u001b[0m     \"\"\"\n\u001b[0;32m--> 223\u001b[0;31m     \u001b[0mX\u001b[0m\u001b[0;34m,\u001b[0m \u001b[0mY\u001b[0m \u001b[0;34m=\u001b[0m \u001b[0mcheck_pairwise_arrays\u001b[0m\u001b[0;34m(\u001b[0m\u001b[0mX\u001b[0m\u001b[0;34m,\u001b[0m \u001b[0mY\u001b[0m\u001b[0;34m)\u001b[0m\u001b[0;34m\u001b[0m\u001b[0m\n\u001b[0m\u001b[1;32m    224\u001b[0m \u001b[0;34m\u001b[0m\u001b[0m\n\u001b[1;32m    225\u001b[0m     \u001b[0;32mif\u001b[0m \u001b[0mX_norm_squared\u001b[0m \u001b[0;32mis\u001b[0m \u001b[0;32mnot\u001b[0m \u001b[0mNone\u001b[0m\u001b[0;34m:\u001b[0m\u001b[0;34m\u001b[0m\u001b[0m\n",
      "\u001b[0;32m/home/parii/.local/lib/python2.7/site-packages/sklearn/metrics/pairwise.pyc\u001b[0m in \u001b[0;36mcheck_pairwise_arrays\u001b[0;34m(X, Y, precomputed, dtype)\u001b[0m\n\u001b[1;32m    108\u001b[0m     \u001b[0;32melse\u001b[0m\u001b[0;34m:\u001b[0m\u001b[0;34m\u001b[0m\u001b[0m\n\u001b[1;32m    109\u001b[0m         X = check_array(X, accept_sparse='csr', dtype=dtype,\n\u001b[0;32m--> 110\u001b[0;31m                         warn_on_dtype=warn_on_dtype, estimator=estimator)\n\u001b[0m\u001b[1;32m    111\u001b[0m         Y = check_array(Y, accept_sparse='csr', dtype=dtype,\n\u001b[1;32m    112\u001b[0m                         warn_on_dtype=warn_on_dtype, estimator=estimator)\n",
      "\u001b[0;32m/home/parii/.local/lib/python2.7/site-packages/sklearn/utils/validation.pyc\u001b[0m in \u001b[0;36mcheck_array\u001b[0;34m(array, accept_sparse, dtype, order, copy, force_all_finite, ensure_2d, allow_nd, ensure_min_samples, ensure_min_features, warn_on_dtype, estimator)\u001b[0m\n\u001b[1;32m    439\u001b[0m                     \u001b[0;34m\"Reshape your data either using array.reshape(-1, 1) if \"\u001b[0m\u001b[0;34m\u001b[0m\u001b[0m\n\u001b[1;32m    440\u001b[0m                     \u001b[0;34m\"your data has a single feature or array.reshape(1, -1) \"\u001b[0m\u001b[0;34m\u001b[0m\u001b[0m\n\u001b[0;32m--> 441\u001b[0;31m                     \"if it contains a single sample.\".format(array))\n\u001b[0m\u001b[1;32m    442\u001b[0m             \u001b[0marray\u001b[0m \u001b[0;34m=\u001b[0m \u001b[0mnp\u001b[0m\u001b[0;34m.\u001b[0m\u001b[0matleast_2d\u001b[0m\u001b[0;34m(\u001b[0m\u001b[0marray\u001b[0m\u001b[0;34m)\u001b[0m\u001b[0;34m\u001b[0m\u001b[0m\n\u001b[1;32m    443\u001b[0m             \u001b[0;31m# To ensure that array flags are maintained\u001b[0m\u001b[0;34m\u001b[0m\u001b[0;34m\u001b[0m\u001b[0m\n",
      "\u001b[0;31mValueError\u001b[0m: Expected 2D array, got 1D array instead:\narray=[ 3.5  4.5  4.5  4.5  4.   4.5  3.5  4.5  4.   4.   4.   4.5  3.5  3.5  4.\n  4.5  4.5  3.5  3.   3.5  3.5  3.5  2.5  4.5  4.   5.   3.   4.5  4.   4.5\n  4.   4.5  3.5  4.   4.5  4.   3.5  4.   1.5  4.   4.5  3.5  4.   4.   4.5\n  5.   4.   4.   4.   4.   4.5  3.   4.5  4.5  3.5  3.5  4.5  3.   4.   4.\n  4.   4.   3.   5.   4.5  4.   4.   3.   3.5  4.   4.   3.5  4.5  4.   4.\n  4.   4.   4.   4.   4.5  4.   4.   3.5  4.5  4.5  4.5  4.   4.5  4.5  4.\n  4.   4.   4.5  2.   4.   4.5  3.5  5.   4.   4.   4.   4.5  4.   4.   4.\n  4.5  4.   4.   4.5  4.5  4.   4.   3.   3.5  5.   4.5  4.   3.5  5.   4.\n  4.5  4.5  5.   4.5  4.5  4.   4.   4.   4.5  4.   3.5  4.   4.   3.   4.\n  4.5  4.5  4.   4.   4.5  4.   2.5  4.5  4.   4.   3.   4.5  4.   4.5  4.5\n  4.   4.   4.   4.   3.5  3.5  4.5  3.5  3.5  3.   4.5  4.   3.   4.   3.\n  4.5  3.5  4.5  4.   3.5  4.   4.5  3.5  4.   4.5  4.   3.5  4.   3.5  4.5\n  4.   3.5  4.   4.   4.5  4.   4.   3.5  3.5  3.5  4.   4.   4.   4.   4.5\n  4.   3.5  4.5  4.   4.   4.   4.5  3.   4.   3.5  4.5  4.   3.5  4.   5.\n  4.   4.5  4.   4.   4.5  4.   4.5  4.5  4.5  4.   4.   4.5  4.   3.5  4.\n  4.   4.   3.5  4.   3.   3.5  4.   4.   4.   5.   5.   4.   4.   2.5  4.5\n  4.   4.5  4.   4.5  4.5  4.   4.   5.   3.   3.5  3.5  4.   5.   4.   4.\n  4.   5.   4.5  4.   4.   4.   3.5  4.5  4.   4.   4.   4.5  3.5  4.   4.\n  4.   4.   3.5  4.5  4.   3.5  4.5  4.   4.   4.   2.5  4.   3.5  4.   4.5\n  4.5  4.   4.5  4.   3.   3.5  4.5  4.   4.5  3.5  3.   4.5  4.   4.   4.\n  4.   4.   4.5  3.5  3.5  4.   4.   3.5  5.   5.   4.   5.   3.5  4.   4.5\n  3.5  3.   4.   4.   4.   3.5  3.5  4.5  4.   4.   4.5  4.   4.5  4.5  4.\n  4.   4.5  5.   2.5  4.   4.   5.   4.5  4.5  4.   4.   4.5  4.   3.5  4.5\n  4.5  4.   4.5  4.   4.   4.5  5.   4.   5.   4.5  4.   5.   4.   3.   4.\n  4.   4.   4.   4.   4.   4.5  4.   3.   3.   3.5  4.5  4.5  4.   4.   4.5\n  4.   4.   2.5  4.   4.   3.5  4.   4.5  5.   4.   5.   3.   5.   4.   4.5\n  4.5  4.   5.   4.   5.   4.5  3.5  3.5  4.5  4.   4.   4.   4.5  4.5  4.5\n  4.   4.   2.   3.   4.   4.5  4.5  4.   3.   4.5  4.   4.5  5.   3.   4.\n  4.5  2.5  3.5  5.   4.   4.5  4.5  3.5  4.5  4.   3.5  3.   4.5  3.5  4.\n  4.   4.5  3.5  5.   4.   4.   4.5  4.5  4.   3.5  4.   4.   4.   4.   4.5\n  5.   4.   3.5  3.5  4.5  4.   4.5  4.   4.5  4.5  4.   4.   4.   4.   4.5\n  3.   3.   5.   4.   3.   4.5  4.   4.   3.5  4.   3.5  4.5  4.   4.5  3.\n  4.5  4.5  4.5  4.5  3.5  4.5  4.   4.5  4.5  4.   5.   4.   3.   4.5  5.\n  4.   3.5  4.   4.5].\nReshape your data either using array.reshape(-1, 1) if your data has a single feature or array.reshape(1, -1) if it contains a single sample."
     ]
    }
   ],
   "source": [
    "# choose your own way to calculate distance\n",
    "from sklearn.metrics.pairwise import euclidean_distances\n",
    "from sklearn.metrics.pairwise import manhattan_distances\n",
    "from scipy.stats.stats import pearsonr\n",
    "\n",
    "\n",
    "ALL_FEATURES = ['review_overall', 'review_aroma', 'review_palate', 'review_taste']\n",
    "def calculate_similarity(beer1, beer2):\n",
    "    # find common reviewers\n",
    "    beer_1_reviewers = df[df.beer_name==beer1].review_profilename.unique()\n",
    "    beer_2_reviewers = df[df.beer_name==beer2].review_profilename.unique()\n",
    "    common_reviewers = set(beer_1_reviewers).intersection(beer_2_reviewers)\n",
    "\n",
    "    # get reviews\n",
    "    beer_1_reviews = get_beer_reviews(beer1, common_reviewers)\n",
    "    beer_2_reviews = get_beer_reviews(beer2, common_reviewers)\n",
    "    dists = []\n",
    "    for f in ALL_FEATURES:\n",
    "        dists.append(euclidean_distances(beer_1_reviews[f], beer_2_reviews[f])[0][0])\n",
    "    \n",
    "    return dists\n",
    "\n",
    "calculate_similarity(beer_1, beer_2)"
   ]
  },
  {
   "cell_type": "code",
   "execution_count": 14,
   "metadata": {},
   "outputs": [
    {
     "name": "stdout",
     "output_type": "stream",
     "text": [
      "starting Dale's Pale Ale\n"
     ]
    },
    {
     "ename": "ValueError",
     "evalue": "Expected 2D array, got 1D array instead:\narray=[ 4.5  4.5  4.5  4.5  4.5  4.5  4.   4.5  4.5  4.   4.5  4.5  5.   4.5  3.5\n  4.   4.   4.5  4.5  4.   4.   2.5  4.   5.   4.5  3.5  4.   4.   4.5  4.5\n  5.   3.5  3.   4.   3.5  3.5  4.5  3.5  4.5  4.   5.   4.   4.   3.   4.5\n  4.   4.5  4.5  4.5  4.   4.5  4.   4.   4.   4.5  4.5  4.   3.5  4.   3.5\n  4.   4.5  3.5  4.5  4.5  4.   4.   4.   5.   4.   3.5  5.   4.   4.   4.5\n  4.   4.5  3.5  3.5  4.5  4.   4.   4.   4.   3.5  4.   4.   4.5  3.5  4.\n  3.   5.   4.   4.   4.   4.   5.   3.   3.5  3.5  4.   4.   4.5  3.5  4.5\n  5.   4.   4.   4.   4.5  4.   4.   4.   4.5  4.   4.   3.5  4.   4.5  4.5\n  4.5  4.   4.   4.   4.   4.5  2.   4.   4.5  4.5  4.5  4.   3.5  5.   4.\n  4.5  4.   4.   4.5  3.5  4.   4.   4.5  4.5  4.   3.5  4.5  4.   4.   4.5\n  4.   4.   4.   3.5  4.   4.   3.5  4.   3.   5.   4.   3.5  4.   5.   4.\n  4.   4.5  4.5  4.   4.   4.5  4.5  5.   4.5  4.   4.   4.5  4.5  4.   4.\n  4.5  4.   4.   3.5  4.   4.   4.   4.5  5.   4.   4.5  4.   4.   4.   4.5\n  4.   4.5  4.   4.   3.   4.5  3.5  4.   4.   4.   4.5  3.5  4.5  3.5  4.\n  4.   4.   3.5  3.5  4.5  4.   3.5  3.5  4.5  3.5  5.   3.5  3.   4.5  4.\n  4.   3.   4.   4.5  3.5  4.5  3.   4.5  3.5  4.5  4.   3.5  4.   4.   4.5\n  3.5  4.   4.5  4.   3.5  4.   3.5  4.5  4.   3.5  4.5  2.5  4.   4.5  4.\n  4.   3.5  3.5  3.5  3.5  4.   4.   4.   4.5  4.   3.5  4.5  4.5  4.   4.\n  4.   4.   4.   5.   4.   4.5  4.   3.   3.   4.   3.5  4.   4.   4.5  3.5\n  4.   5.   4.   4.5  4.5  4.   4.   4.   4.   4.   4.   4.5  4.   4.   4.5\n  4.5  4.   4.   4.5  3.5  4.   4.5  4.   4.   4.5  4.5  4.   3.   4.   4.\n  4.   2.5  5.   4.5  4.   4.   4.   3.5  4.   4.   5.   5.   4.   2.5  4.\n  4.   4.5  4.   4.   3.5  4.5  4.5  4.5  4.5  4.   4.   4.   5.   4.   4.\n  2.5  5.   4.   5.   5.   4.   4.   4.5  5.   3.5  4.   4.   4.   4.   4.\n  4.   3.5  4.5  4.5  4.   4.   4.   4.5  4.   4.   4.   4.   3.   4.   4.5\n  4.   4.5  4.   3.5  4.5  4.   4.   4.   4.5  4.   4.5  4.   4.   4.5  2.5\n  3.5  4.5  4.   4.   4.5  4.5  4.   4.   4.5  3.   4.   4.5  3.5  3.5  3.5\n  4.5  4.   4.5  4.   4.   4.   4.5  4.   4.   4.5  4.5  4.   4.   4.   5.\n  4.   4.   5.   3.5  4.5  3.5  4.   3.   4.5  4.5  4.   2.5  4.   3.5  5.\n  3.5  3.   4.   4.5  4.   4.   4.   4.5  4.5  4.   4.   4.5  4.5  4.5  4.5\n  4.   4.   5.   4.   2.5  4.5  4.   4.   4.   5.   4.5  4.5  4.5  4.   4.\n  4.5  4.   4.   4.   4.5  4.   4.   4.5  3.5  4.   4.5  4.5  4.   3.5  4.5\n  4.   4.5  4.   3.5  4.   5.   4.   4.   3.5  4.   4.5  5.   4.   4.   4.5\n  3.5  4.   3.5  4.   4.5  4.   4.   3.5  5.   4.   4.   4.   4.5  4.   3.\n  3.   3.5  4.5  4.5  5.   4.   4.5  4.   4.   4.   3.5  4.   4.   3.5  5.\n  4.5  4.   4.   5.   3.5  4.   3.5  4.   4.5  4.5  4.   4.   4.5  4.   4.\n  5.   4.5  4.   4.5  3.5  4.5  5.   4.   4.   4.   4.5  4.   4.5  4.   4.5\n  4.5  4.   3.5  4.5  4.   4.   4.   4.   4.   4.   3.   4.5  4.   3.   4.5\n  4.5  4.   4.5  5.   4.5  4.5  3.   4.5  4.5  4.5  4.   4.   4.   4.   4.5\n  4.   4.5  5.   3.   4.   5.   4.   2.5  3.5  4.   4.5  4.   5.   4.5  4.5\n  4.   4.5  3.5  4.   3.5  5.   4.   4.   3.5  3.   4.5  2.   4.   3.5  4.\n  4.   4.5  2.5  4.5  3.5  4.   4.5  4.5  5.   4.   3.5  4.5  4.   3.5  4.\n  4.   4.   4.5  4.5  5.   5.   4.   3.5  3.5  4.5  4.5  4.   4.   4.   4.5\n  4.   4.5  4.5  4.   5.   4.   4.   4.5  3.   4.5  4.5  4.   4.   3.   4.5\n  4.   4.   4.   4.5  4.   4.5  4.   4.5  4.5  4.5  4.5  4.5  4.5  4.5  4.5\n  3.5  4.5  4.   4.   4.5  4.5  4.5  4.   5.   4.   4.5  4.5  4.   3.5  4.\n  4.5].\nReshape your data either using array.reshape(-1, 1) if your data has a single feature or array.reshape(1, -1) if it contains a single sample.",
     "output_type": "error",
     "traceback": [
      "\u001b[0;31m---------------------------------------------------------------------------\u001b[0m",
      "\u001b[0;31mValueError\u001b[0m                                Traceback (most recent call last)",
      "\u001b[0;32m<ipython-input-14-aca98d5606c3>\u001b[0m in \u001b[0;36m<module>\u001b[0;34m()\u001b[0m\n\u001b[1;32m     12\u001b[0m     \u001b[0;32mfor\u001b[0m \u001b[0mbeer2\u001b[0m \u001b[0;32min\u001b[0m \u001b[0mbeers\u001b[0m\u001b[0;34m:\u001b[0m\u001b[0;34m\u001b[0m\u001b[0m\n\u001b[1;32m     13\u001b[0m         \u001b[0;32mif\u001b[0m \u001b[0mbeer1\u001b[0m \u001b[0;34m!=\u001b[0m \u001b[0mbeer2\u001b[0m\u001b[0;34m:\u001b[0m\u001b[0;34m\u001b[0m\u001b[0m\n\u001b[0;32m---> 14\u001b[0;31m             \u001b[0mrow\u001b[0m \u001b[0;34m=\u001b[0m \u001b[0;34m[\u001b[0m\u001b[0mbeer1\u001b[0m\u001b[0;34m,\u001b[0m \u001b[0mbeer2\u001b[0m\u001b[0;34m]\u001b[0m \u001b[0;34m+\u001b[0m \u001b[0mcalculate_similarity\u001b[0m\u001b[0;34m(\u001b[0m\u001b[0mbeer1\u001b[0m\u001b[0;34m,\u001b[0m \u001b[0mbeer2\u001b[0m\u001b[0;34m)\u001b[0m\u001b[0;34m\u001b[0m\u001b[0m\n\u001b[0m\u001b[1;32m     15\u001b[0m             \u001b[0msimple_distances\u001b[0m\u001b[0;34m.\u001b[0m\u001b[0mappend\u001b[0m\u001b[0;34m(\u001b[0m\u001b[0mrow\u001b[0m\u001b[0;34m)\u001b[0m\u001b[0;34m\u001b[0m\u001b[0m\n",
      "\u001b[0;32m<ipython-input-11-438210631091>\u001b[0m in \u001b[0;36mcalculate_similarity\u001b[0;34m(beer1, beer2)\u001b[0m\n\u001b[1;32m     17\u001b[0m     \u001b[0mdists\u001b[0m \u001b[0;34m=\u001b[0m \u001b[0;34m[\u001b[0m\u001b[0;34m]\u001b[0m\u001b[0;34m\u001b[0m\u001b[0m\n\u001b[1;32m     18\u001b[0m     \u001b[0;32mfor\u001b[0m \u001b[0mf\u001b[0m \u001b[0;32min\u001b[0m \u001b[0mALL_FEATURES\u001b[0m\u001b[0;34m:\u001b[0m\u001b[0;34m\u001b[0m\u001b[0m\n\u001b[0;32m---> 19\u001b[0;31m         \u001b[0mdists\u001b[0m\u001b[0;34m.\u001b[0m\u001b[0mappend\u001b[0m\u001b[0;34m(\u001b[0m\u001b[0meuclidean_distances\u001b[0m\u001b[0;34m(\u001b[0m\u001b[0mbeer_1_reviews\u001b[0m\u001b[0;34m[\u001b[0m\u001b[0mf\u001b[0m\u001b[0;34m]\u001b[0m\u001b[0;34m,\u001b[0m \u001b[0mbeer_2_reviews\u001b[0m\u001b[0;34m[\u001b[0m\u001b[0mf\u001b[0m\u001b[0;34m]\u001b[0m\u001b[0;34m)\u001b[0m\u001b[0;34m[\u001b[0m\u001b[0;36m0\u001b[0m\u001b[0;34m]\u001b[0m\u001b[0;34m[\u001b[0m\u001b[0;36m0\u001b[0m\u001b[0;34m]\u001b[0m\u001b[0;34m)\u001b[0m\u001b[0;34m\u001b[0m\u001b[0m\n\u001b[0m\u001b[1;32m     20\u001b[0m \u001b[0;34m\u001b[0m\u001b[0m\n\u001b[1;32m     21\u001b[0m     \u001b[0;32mreturn\u001b[0m \u001b[0mdists\u001b[0m\u001b[0;34m\u001b[0m\u001b[0m\n",
      "\u001b[0;32m/home/parii/.local/lib/python2.7/site-packages/sklearn/metrics/pairwise.pyc\u001b[0m in \u001b[0;36meuclidean_distances\u001b[0;34m(X, Y, Y_norm_squared, squared, X_norm_squared)\u001b[0m\n\u001b[1;32m    221\u001b[0m     \u001b[0mpaired_distances\u001b[0m \u001b[0;34m:\u001b[0m \u001b[0mdistances\u001b[0m \u001b[0mbetweens\u001b[0m \u001b[0mpairs\u001b[0m \u001b[0mof\u001b[0m \u001b[0melements\u001b[0m \u001b[0mof\u001b[0m \u001b[0mX\u001b[0m \u001b[0;32mand\u001b[0m \u001b[0mY\u001b[0m\u001b[0;34m.\u001b[0m\u001b[0;34m\u001b[0m\u001b[0m\n\u001b[1;32m    222\u001b[0m     \"\"\"\n\u001b[0;32m--> 223\u001b[0;31m     \u001b[0mX\u001b[0m\u001b[0;34m,\u001b[0m \u001b[0mY\u001b[0m \u001b[0;34m=\u001b[0m \u001b[0mcheck_pairwise_arrays\u001b[0m\u001b[0;34m(\u001b[0m\u001b[0mX\u001b[0m\u001b[0;34m,\u001b[0m \u001b[0mY\u001b[0m\u001b[0;34m)\u001b[0m\u001b[0;34m\u001b[0m\u001b[0m\n\u001b[0m\u001b[1;32m    224\u001b[0m \u001b[0;34m\u001b[0m\u001b[0m\n\u001b[1;32m    225\u001b[0m     \u001b[0;32mif\u001b[0m \u001b[0mX_norm_squared\u001b[0m \u001b[0;32mis\u001b[0m \u001b[0;32mnot\u001b[0m \u001b[0mNone\u001b[0m\u001b[0;34m:\u001b[0m\u001b[0;34m\u001b[0m\u001b[0m\n",
      "\u001b[0;32m/home/parii/.local/lib/python2.7/site-packages/sklearn/metrics/pairwise.pyc\u001b[0m in \u001b[0;36mcheck_pairwise_arrays\u001b[0;34m(X, Y, precomputed, dtype)\u001b[0m\n\u001b[1;32m    108\u001b[0m     \u001b[0;32melse\u001b[0m\u001b[0;34m:\u001b[0m\u001b[0;34m\u001b[0m\u001b[0m\n\u001b[1;32m    109\u001b[0m         X = check_array(X, accept_sparse='csr', dtype=dtype,\n\u001b[0;32m--> 110\u001b[0;31m                         warn_on_dtype=warn_on_dtype, estimator=estimator)\n\u001b[0m\u001b[1;32m    111\u001b[0m         Y = check_array(Y, accept_sparse='csr', dtype=dtype,\n\u001b[1;32m    112\u001b[0m                         warn_on_dtype=warn_on_dtype, estimator=estimator)\n",
      "\u001b[0;32m/home/parii/.local/lib/python2.7/site-packages/sklearn/utils/validation.pyc\u001b[0m in \u001b[0;36mcheck_array\u001b[0;34m(array, accept_sparse, dtype, order, copy, force_all_finite, ensure_2d, allow_nd, ensure_min_samples, ensure_min_features, warn_on_dtype, estimator)\u001b[0m\n\u001b[1;32m    439\u001b[0m                     \u001b[0;34m\"Reshape your data either using array.reshape(-1, 1) if \"\u001b[0m\u001b[0;34m\u001b[0m\u001b[0m\n\u001b[1;32m    440\u001b[0m                     \u001b[0;34m\"your data has a single feature or array.reshape(1, -1) \"\u001b[0m\u001b[0;34m\u001b[0m\u001b[0m\n\u001b[0;32m--> 441\u001b[0;31m                     \"if it contains a single sample.\".format(array))\n\u001b[0m\u001b[1;32m    442\u001b[0m             \u001b[0marray\u001b[0m \u001b[0;34m=\u001b[0m \u001b[0mnp\u001b[0m\u001b[0;34m.\u001b[0m\u001b[0matleast_2d\u001b[0m\u001b[0;34m(\u001b[0m\u001b[0marray\u001b[0m\u001b[0;34m)\u001b[0m\u001b[0;34m\u001b[0m\u001b[0m\n\u001b[1;32m    443\u001b[0m             \u001b[0;31m# To ensure that array flags are maintained\u001b[0m\u001b[0;34m\u001b[0m\u001b[0;34m\u001b[0m\u001b[0m\n",
      "\u001b[0;31mValueError\u001b[0m: Expected 2D array, got 1D array instead:\narray=[ 4.5  4.5  4.5  4.5  4.5  4.5  4.   4.5  4.5  4.   4.5  4.5  5.   4.5  3.5\n  4.   4.   4.5  4.5  4.   4.   2.5  4.   5.   4.5  3.5  4.   4.   4.5  4.5\n  5.   3.5  3.   4.   3.5  3.5  4.5  3.5  4.5  4.   5.   4.   4.   3.   4.5\n  4.   4.5  4.5  4.5  4.   4.5  4.   4.   4.   4.5  4.5  4.   3.5  4.   3.5\n  4.   4.5  3.5  4.5  4.5  4.   4.   4.   5.   4.   3.5  5.   4.   4.   4.5\n  4.   4.5  3.5  3.5  4.5  4.   4.   4.   4.   3.5  4.   4.   4.5  3.5  4.\n  3.   5.   4.   4.   4.   4.   5.   3.   3.5  3.5  4.   4.   4.5  3.5  4.5\n  5.   4.   4.   4.   4.5  4.   4.   4.   4.5  4.   4.   3.5  4.   4.5  4.5\n  4.5  4.   4.   4.   4.   4.5  2.   4.   4.5  4.5  4.5  4.   3.5  5.   4.\n  4.5  4.   4.   4.5  3.5  4.   4.   4.5  4.5  4.   3.5  4.5  4.   4.   4.5\n  4.   4.   4.   3.5  4.   4.   3.5  4.   3.   5.   4.   3.5  4.   5.   4.\n  4.   4.5  4.5  4.   4.   4.5  4.5  5.   4.5  4.   4.   4.5  4.5  4.   4.\n  4.5  4.   4.   3.5  4.   4.   4.   4.5  5.   4.   4.5  4.   4.   4.   4.5\n  4.   4.5  4.   4.   3.   4.5  3.5  4.   4.   4.   4.5  3.5  4.5  3.5  4.\n  4.   4.   3.5  3.5  4.5  4.   3.5  3.5  4.5  3.5  5.   3.5  3.   4.5  4.\n  4.   3.   4.   4.5  3.5  4.5  3.   4.5  3.5  4.5  4.   3.5  4.   4.   4.5\n  3.5  4.   4.5  4.   3.5  4.   3.5  4.5  4.   3.5  4.5  2.5  4.   4.5  4.\n  4.   3.5  3.5  3.5  3.5  4.   4.   4.   4.5  4.   3.5  4.5  4.5  4.   4.\n  4.   4.   4.   5.   4.   4.5  4.   3.   3.   4.   3.5  4.   4.   4.5  3.5\n  4.   5.   4.   4.5  4.5  4.   4.   4.   4.   4.   4.   4.5  4.   4.   4.5\n  4.5  4.   4.   4.5  3.5  4.   4.5  4.   4.   4.5  4.5  4.   3.   4.   4.\n  4.   2.5  5.   4.5  4.   4.   4.   3.5  4.   4.   5.   5.   4.   2.5  4.\n  4.   4.5  4.   4.   3.5  4.5  4.5  4.5  4.5  4.   4.   4.   5.   4.   4.\n  2.5  5.   4.   5.   5.   4.   4.   4.5  5.   3.5  4.   4.   4.   4.   4.\n  4.   3.5  4.5  4.5  4.   4.   4.   4.5  4.   4.   4.   4.   3.   4.   4.5\n  4.   4.5  4.   3.5  4.5  4.   4.   4.   4.5  4.   4.5  4.   4.   4.5  2.5\n  3.5  4.5  4.   4.   4.5  4.5  4.   4.   4.5  3.   4.   4.5  3.5  3.5  3.5\n  4.5  4.   4.5  4.   4.   4.   4.5  4.   4.   4.5  4.5  4.   4.   4.   5.\n  4.   4.   5.   3.5  4.5  3.5  4.   3.   4.5  4.5  4.   2.5  4.   3.5  5.\n  3.5  3.   4.   4.5  4.   4.   4.   4.5  4.5  4.   4.   4.5  4.5  4.5  4.5\n  4.   4.   5.   4.   2.5  4.5  4.   4.   4.   5.   4.5  4.5  4.5  4.   4.\n  4.5  4.   4.   4.   4.5  4.   4.   4.5  3.5  4.   4.5  4.5  4.   3.5  4.5\n  4.   4.5  4.   3.5  4.   5.   4.   4.   3.5  4.   4.5  5.   4.   4.   4.5\n  3.5  4.   3.5  4.   4.5  4.   4.   3.5  5.   4.   4.   4.   4.5  4.   3.\n  3.   3.5  4.5  4.5  5.   4.   4.5  4.   4.   4.   3.5  4.   4.   3.5  5.\n  4.5  4.   4.   5.   3.5  4.   3.5  4.   4.5  4.5  4.   4.   4.5  4.   4.\n  5.   4.5  4.   4.5  3.5  4.5  5.   4.   4.   4.   4.5  4.   4.5  4.   4.5\n  4.5  4.   3.5  4.5  4.   4.   4.   4.   4.   4.   3.   4.5  4.   3.   4.5\n  4.5  4.   4.5  5.   4.5  4.5  3.   4.5  4.5  4.5  4.   4.   4.   4.   4.5\n  4.   4.5  5.   3.   4.   5.   4.   2.5  3.5  4.   4.5  4.   5.   4.5  4.5\n  4.   4.5  3.5  4.   3.5  5.   4.   4.   3.5  3.   4.5  2.   4.   3.5  4.\n  4.   4.5  2.5  4.5  3.5  4.   4.5  4.5  5.   4.   3.5  4.5  4.   3.5  4.\n  4.   4.   4.5  4.5  5.   5.   4.   3.5  3.5  4.5  4.5  4.   4.   4.   4.5\n  4.   4.5  4.5  4.   5.   4.   4.   4.5  3.   4.5  4.5  4.   4.   3.   4.5\n  4.   4.   4.   4.5  4.   4.5  4.   4.5  4.5  4.5  4.5  4.5  4.5  4.5  4.5\n  3.5  4.5  4.   4.   4.5  4.5  4.5  4.   5.   4.   4.5  4.5  4.   3.5  4.\n  4.5].\nReshape your data either using array.reshape(-1, 1) if your data has a single feature or array.reshape(1, -1) if it contains a single sample."
     ]
    }
   ],
   "source": [
    "# calculate only a subset for the demo\n",
    "beers = [\"Dale's Pale Ale\", \"Sierra Nevada Pale Ale\", \"Michelob Ultra\",\n",
    "         \"Natural Light\", \"Bud Light\", \"Fat Tire Amber Ale\", \"Coors Light\",\n",
    "         \"Blue Moon Belgian White\", \"60 Minute IPA\", \"Guinness Draught\"]\n",
    "\n",
    "# calculate everything for real production\n",
    "# beers = df.beer_name.unique()\n",
    "\n",
    "simple_distances = []\n",
    "for beer1 in beers:\n",
    "    print \"starting\", beer1\n",
    "    for beer2 in beers:\n",
    "        if beer1 != beer2:\n",
    "            row = [beer1, beer2] + calculate_similarity(beer1, beer2)\n",
    "            simple_distances.append(row)"
   ]
  },
  {
   "cell_type": "code",
   "execution_count": null,
   "metadata": {},
   "outputs": [],
   "source": []
  }
 ],
 "metadata": {
  "kernelspec": {
   "display_name": "Python 2",
   "language": "python",
   "name": "python2"
  },
  "language_info": {
   "codemirror_mode": {
    "name": "ipython",
    "version": 2
   },
   "file_extension": ".py",
   "mimetype": "text/x-python",
   "name": "python",
   "nbconvert_exporter": "python",
   "pygments_lexer": "ipython2",
   "version": "2.7.14"
  }
 },
 "nbformat": 4,
 "nbformat_minor": 2
}
